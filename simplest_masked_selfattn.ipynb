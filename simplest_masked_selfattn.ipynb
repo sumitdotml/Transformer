{
 "cells": [
  {
   "cell_type": "code",
   "execution_count": 13,
   "metadata": {},
   "outputs": [],
   "source": [
    "import torch\n",
    "import torch.nn as nn"
   ]
  },
  {
   "cell_type": "markdown",
   "metadata": {},
   "source": [
    "## First, some random practice"
   ]
  },
  {
   "cell_type": "code",
   "execution_count": 14,
   "metadata": {},
   "outputs": [
    {
     "data": {
      "text/plain": [
       "tensor([[-0.7444,  1.0120,  0.3675,  2.6592],\n",
       "        [-0.9483, -1.0301, -0.1990, -0.2448],\n",
       "        [-0.7577,  1.1288, -0.9627,  0.4792],\n",
       "        [-1.9023, -0.7524, -0.5739, -0.4064]])"
      ]
     },
     "execution_count": 14,
     "metadata": {},
     "output_type": "execute_result"
    }
   ],
   "source": [
    "a = torch.randn(4, 4)\n",
    "a"
   ]
  },
  {
   "cell_type": "code",
   "execution_count": 48,
   "metadata": {},
   "outputs": [
    {
     "name": "stdout",
     "output_type": "stream",
     "text": [
      "Mask with only triangular booleans:\n",
      "tensor([[ True, False, False, False],\n",
      "        [ True,  True, False, False],\n",
      "        [ True,  True,  True, False],\n",
      "        [ True,  True,  True,  True]])\n",
      "\n",
      "Mask after doing == 0:\n",
      "tensor([[False,  True,  True,  True],\n",
      "        [False, False,  True,  True],\n",
      "        [False, False, False,  True],\n",
      "        [False, False, False, False]])\n",
      "\n",
      "Masked matrix:\n",
      "tensor([[-0.7444,    -inf,    -inf,    -inf],\n",
      "        [-0.9483, -1.0301,    -inf,    -inf],\n",
      "        [-0.7577,  1.1288, -0.9627,    -inf],\n",
      "        [-1.9023, -0.7524, -0.5739, -0.4064]])\n"
     ]
    }
   ],
   "source": [
    "mask = torch.tril(torch.ones_like(a, dtype=torch.bool))\n",
    "print(f\"Mask with only triangular booleans:\\n{mask}\")\n",
    "mask = mask == 0 # logic: True == 0 is False, False == 0 is True\n",
    "print(f\"\\nMask after doing == 0:\\n{mask}\")\n",
    "b = a.masked_fill(mask=mask, value=torch.tensor(float('-inf')))\n",
    "print(f\"\\nMasked matrix:\\n{b}\")"
   ]
  },
  {
   "cell_type": "code",
   "execution_count": 32,
   "metadata": {},
   "outputs": [
    {
     "data": {
      "text/plain": [
       "tensor([[1.0000, 0.0000, 0.0000, 0.0000],\n",
       "        [0.5204, 0.4796, 0.0000, 0.0000],\n",
       "        [0.1189, 0.7843, 0.0969, 0.0000],\n",
       "        [0.0807, 0.2547, 0.3045, 0.3600]])"
      ]
     },
     "execution_count": 32,
     "metadata": {},
     "output_type": "execute_result"
    }
   ],
   "source": [
    "c = torch.softmax(b, dim=-1)\n",
    "c"
   ]
  },
  {
   "cell_type": "markdown",
   "metadata": {},
   "source": [
    "## Time to build the masked self-attention"
   ]
  },
  {
   "cell_type": "code",
   "execution_count": null,
   "metadata": {},
   "outputs": [],
   "source": [
    "class MaskedSelfAttention(nn.Module):\n",
    "    def __init__(self, embed_dim=5, row_index=0, col_index=1):\n",
    "        self.W_q = nn.Linear(\n",
    "            in_features=embed_dim, out_features=embed_dim, bias=False)\n",
    "        self.W_k = nn.Linear(\n",
    "            in_features=embed_dim, out_features=embed_dim, bias=False\n",
    "        )\n",
    "        self.W_v = nn.Linear(\n",
    "            in_features=embed_dim, out_features=embed_dim, bias=False\n",
    "        )\n",
    "        self.row_index = row_index\n",
    "        self.col_index = col_index"
   ]
  }
 ],
 "metadata": {
  "kernelspec": {
   "display_name": ".venv",
   "language": "python",
   "name": "python3"
  },
  "language_info": {
   "codemirror_mode": {
    "name": "ipython",
    "version": 3
   },
   "file_extension": ".py",
   "mimetype": "text/x-python",
   "name": "python",
   "nbconvert_exporter": "python",
   "pygments_lexer": "ipython3",
   "version": "3.13.1"
  }
 },
 "nbformat": 4,
 "nbformat_minor": 2
}
