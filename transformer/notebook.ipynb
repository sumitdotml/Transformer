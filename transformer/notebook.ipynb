{
 "cells": [
  {
   "cell_type": "code",
   "execution_count": 19,
   "metadata": {},
   "outputs": [],
   "source": [
    "import torch\n",
    "import torch.nn as nn\n",
    "import math\n",
    "from typing import Optional\n",
    "import tiktoken\n",
    "\n",
    "device = torch.device(\"cuda\" if torch.cuda.is_available() else \"cpu\")\n",
    "tokenizer = tiktoken.get_encoding(\"gpt2\")"
   ]
  },
  {
   "cell_type": "code",
   "execution_count": 20,
   "metadata": {},
   "outputs": [],
   "source": [
    "class InputEmbedding(nn.Module):\n",
    "    def __init__(\n",
    "        self,\n",
    "        vocab_size: int,\n",
    "        d_model: int,\n",
    "        device: Optional[torch.device] = device,\n",
    "        tokenizer=tokenizer,\n",
    "    ):\n",
    "        super().__init__()\n",
    "        self.device = device\n",
    "        self.embedding = nn.Embedding(\n",
    "            num_embeddings=vocab_size, embedding_dim=d_model, device=device\n",
    "        )\n",
    "        self.d_model = d_model\n",
    "        self.tokenizer = tokenizer\n",
    "\n",
    "    def forward(self, input_text: str):\n",
    "        \"\"\"\n",
    "        Args:\n",
    "            input_text: str, the input text\n",
    "        Returns:\n",
    "            tensor, the input embeddings\n",
    "\n",
    "        This is consistent with the original paper which uses a square root of the\n",
    "        dimension of the model as the scaling factor for the input embeddings (page 5,\n",
    "        section 3.4).\n",
    "        \"\"\"\n",
    "        token_ids = self.tokenizer.encode(input_text)\n",
    "        return self.embedding(\n",
    "            torch.stack([torch.tensor(token_ids, device=self.device)], dim=0)\n",
    "        ) * math.sqrt(self.d_model)"
   ]
  },
  {
   "cell_type": "code",
   "execution_count": 21,
   "metadata": {},
   "outputs": [
    {
     "data": {
      "text/plain": [
       "tensor([[[ 28.6017, -12.7955,  15.7570,  ..., -13.6463, -14.2052,  39.2336],\n",
       "         [  8.8600,  25.1734,  -1.8054,  ...,   7.3967,  -5.4317,   2.3652],\n",
       "         [  7.2131,   0.7212,  21.4795,  ..., -13.5974,  -0.4842, -16.5771],\n",
       "         [  2.2655,  11.6492,  -1.8845,  ..., -57.5402,  29.0771,  34.8831]]],\n",
       "       grad_fn=<MulBackward0>)"
      ]
     },
     "execution_count": 21,
     "metadata": {},
     "output_type": "execute_result"
    }
   ],
   "source": [
    "embedding = InputEmbedding(vocab_size=50257, d_model=512, device=device)\n",
    "embedding(input_text=\"Hello, world!\")"
   ]
  },
  {
   "cell_type": "code",
   "execution_count": null,
   "metadata": {},
   "outputs": [],
   "source": []
  }
 ],
 "metadata": {
  "kernelspec": {
   "display_name": ".venv",
   "language": "python",
   "name": "python3"
  },
  "language_info": {
   "codemirror_mode": {
    "name": "ipython",
    "version": 3
   },
   "file_extension": ".py",
   "mimetype": "text/x-python",
   "name": "python",
   "nbconvert_exporter": "python",
   "pygments_lexer": "ipython3",
   "version": "3.13.1"
  }
 },
 "nbformat": 4,
 "nbformat_minor": 2
}
