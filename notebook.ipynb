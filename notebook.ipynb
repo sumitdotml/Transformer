{
 "cells": [
  {
   "cell_type": "code",
   "execution_count": 1,
   "metadata": {},
   "outputs": [],
   "source": [
    "import torch\n",
    "import torch.nn as nn"
   ]
  },
  {
   "cell_type": "code",
   "execution_count": 2,
   "metadata": {},
   "outputs": [],
   "source": [
    "torch.manual_seed(40)\n",
    "\n",
    "class SelfAttention(nn.Module):\n",
    "    def __init__(self, d_model=2, row_dim=0, col_dim=1):\n",
    "        super().__init__()\n",
    "        self.W_q = nn.Linear(\n",
    "            in_features=d_model, out_features=d_model, bias=False # bias false since the original paper had it set to false\n",
    "            )\n",
    "        self.W_k = nn.Linear(\n",
    "            in_features=d_model, out_features=d_model, bias=False\n",
    "        )\n",
    "        self.W_v = nn.Linear(\n",
    "            in_features=d_model, out_features=d_model, bias=False\n",
    "        )\n",
    "        self.row_dim = row_dim\n",
    "        self.col_dim = col_dim\n",
    "    \n",
    "    def forward(self, token):\n",
    "        # we need q, k, v for each token across the whole text\n",
    "        q = self.W_q(token)\n",
    "        k = self.W_k(token)\n",
    "        v = self.W_v(token)\n",
    "\n",
    "        sims = torch.matmul(q, k.transpose(dim0=self.row_dim, dim1=self.col_dim)) # similarities. this is Q @ K^T\n",
    "        scaled_sims = sims / torch.tensor(k.size(self.col_dim) ** 0.5) # this is (Q @ K^T) / sqrt(d_K)\n",
    "        attn_percents = torch.softmax(scaled_sims, dim=self.col_dim) # applying softmax to scaled similarities\n",
    "        self_attn_scores = torch.matmul(attn_percents, v)\n",
    "        return self_attn_scores\n"
   ]
  },
  {
   "cell_type": "code",
   "execution_count": 3,
   "metadata": {},
   "outputs": [],
   "source": [
    "torch.manual_seed(40)\n",
    "\n",
    "self_Attn = SelfAttention()"
   ]
  },
  {
   "cell_type": "code",
   "execution_count": 4,
   "metadata": {},
   "outputs": [
    {
     "data": {
      "text/plain": [
       "tensor([[-0.2011,  0.2057],\n",
       "        [-0.2040,  0.1979],\n",
       "        [-0.1110,  0.3437],\n",
       "        [-0.1842,  0.2515],\n",
       "        [-0.2032,  0.1883]], grad_fn=<MmBackward0>)"
      ]
     },
     "execution_count": 4,
     "metadata": {},
     "output_type": "execute_result"
    }
   ],
   "source": [
    "torch.manual_seed(40)\n",
    "\n",
    "encoding_matrix = torch.randn(5, 2)\n",
    "\n",
    "self_Attn(encoding_matrix)"
   ]
  },
  {
   "cell_type": "code",
   "execution_count": 5,
   "metadata": {},
   "outputs": [
    {
     "name": "stdout",
     "output_type": "stream",
     "text": [
      "Query weights: tensor([[-0.1868, -0.4614],\n",
      "        [ 0.5177,  0.3051]], grad_fn=<TransposeBackward0>)\n",
      "Key weights: tensor([[ 0.5161,  0.0709],\n",
      "        [-0.0173, -0.5207]], grad_fn=<TransposeBackward0>)\n",
      "Value weights: tensor([[-0.2973,  0.4265],\n",
      "        [-0.6072, -0.2483]], grad_fn=<TransposeBackward0>)\n",
      "\n",
      "Query matrix: tensor([[-0.3542, -0.5357],\n",
      "        [-0.4196, -0.5584],\n",
      "        [ 0.5658,  0.4835],\n",
      "        [ 0.0497, -0.3867],\n",
      "        [-0.5662, -0.5234]], grad_fn=<MmBackward0>)\n",
      "\n",
      "Key matrix: tensor([[ 0.4864,  0.2473],\n",
      "        [ 0.4655,  0.3184],\n",
      "        [-0.2368, -0.5190],\n",
      "        [ 0.6020, -0.1886],\n",
      "        [ 0.2944,  0.5062]], grad_fn=<MmBackward0>)\n",
      "\n",
      "Value matrix: tensor([[-0.0653,  0.4834],\n",
      "        [ 0.0348,  0.4995],\n",
      "        [-0.4428, -0.4153],\n",
      "        [-0.6698,  0.3750],\n",
      "        [ 0.3850,  0.4535]], grad_fn=<MmBackward0>)\n"
     ]
    }
   ],
   "source": [
    "W_q = self_Attn.W_q.weight.transpose(0, 1) # query weights\n",
    "W_k = self_Attn.W_k.weight.transpose(0, 1) # key weights\n",
    "W_v = self_Attn.W_v.weight.transpose(0,1) # value weights\n",
    "\n",
    "print(f\"Query weights: {W_q}\")\n",
    "print(f\"Key weights: {W_k}\")\n",
    "print(f\"Value weights: {W_v}\")\n",
    "\n",
    "Q = encoding_matrix @ W_q # or Q = self_Attn.W_q(encoding_matrix)\n",
    "K = encoding_matrix @ W_k # or K = self_Attn.W_k(encoding_matrix)\n",
    "V = encoding_matrix @ W_v # or V = self_Attn.W_v(encoding_matrix)\n",
    "\n",
    "print(f\"\\nQuery matrix: {Q}\")\n",
    "print(f\"\\nKey matrix: {K}\")\n",
    "print(f\"\\nValue matrix: {V}\")"
   ]
  },
  {
   "cell_type": "code",
   "execution_count": null,
   "metadata": {},
   "outputs": [],
   "source": []
  }
 ],
 "metadata": {
  "kernelspec": {
   "display_name": ".venv",
   "language": "python",
   "name": "python3"
  },
  "language_info": {
   "codemirror_mode": {
    "name": "ipython",
    "version": 3
   },
   "file_extension": ".py",
   "mimetype": "text/x-python",
   "name": "python",
   "nbconvert_exporter": "python",
   "pygments_lexer": "ipython3",
   "version": "3.13.1"
  }
 },
 "nbformat": 4,
 "nbformat_minor": 2
}
