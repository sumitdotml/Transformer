{
 "cells": [
  {
   "cell_type": "markdown",
   "metadata": {},
   "source": [
    "# Shape study notebook\n",
    "\n",
    "Here, I am taking a close look at how the shapes of the tensors are transformed in the multi-head attention mechanism step by step based on the formula:\n",
    "\n",
    "$$\n",
    "\\text{Attention}(Q, K, V) = \\text{softmax}\\left(\\frac{QK^T}{\\sqrt{d_k}}\\right)V\n",
    "$$\n",
    "\n"
   ]
  },
  {
   "cell_type": "code",
   "execution_count": 1,
   "metadata": {},
   "outputs": [],
   "source": [
    "import torch\n",
    "import math"
   ]
  },
  {
   "cell_type": "markdown",
   "metadata": {},
   "source": [
    "I am assuming that the q, k, and v tensors have already been split into heads and transposed. For details, you should check the [multihead.py](./multihead.py) file in the same directory as this notebook."
   ]
  },
  {
   "cell_type": "code",
   "execution_count": 2,
   "metadata": {},
   "outputs": [
    {
     "name": "stdout",
     "output_type": "stream",
     "text": [
      "torch.Size([1, 8, 4, 64])\n",
      "torch.Size([1, 8, 4, 64])\n",
      "torch.Size([1, 8, 4, 64])\n"
     ]
    }
   ],
   "source": [
    "q = torch.randn(1, 8, 4, 64)\n",
    "k = torch.randn(1, 8, 4, 64)\n",
    "v = torch.randn(1, 8, 4, 64)\n",
    "d_k = k.shape[-1]\n",
    "\n",
    "print(q.shape)\n",
    "print(k.shape)\n",
    "print(v.shape)"
   ]
  },
  {
   "cell_type": "code",
   "execution_count": 3,
   "metadata": {},
   "outputs": [
    {
     "data": {
      "text/plain": [
       "torch.Size([1, 8, 4, 4])"
      ]
     },
     "execution_count": 3,
     "metadata": {},
     "output_type": "execute_result"
    }
   ],
   "source": [
    "qk_T = (q @ k.transpose(-2, -1))\n",
    "qk_T.shape\n"
   ]
  },
  {
   "cell_type": "code",
   "execution_count": 4,
   "metadata": {},
   "outputs": [
    {
     "name": "stdout",
     "output_type": "stream",
     "text": [
      "attn_scores.shape: torch.Size([1, 8, 4, 4])\n",
      "attn_weights.shape: torch.Size([1, 8, 4, 4])\n",
      "context_vec.shape: torch.Size([1, 8, 4, 64])\n"
     ]
    }
   ],
   "source": [
    "attn_scores = qk_T / math.sqrt(d_k)\n",
    "print(f\"attn_scores.shape: {attn_scores.shape}\")\n",
    "\n",
    "attn_weights = torch.softmax(attn_scores, dim=-1)\n",
    "print(f\"attn_weights.shape: {attn_weights.shape}\")\n",
    "\n",
    "context_vec = attn_weights @ v\n",
    "print(f\"context_vec.shape: {context_vec.shape}\")\n"
   ]
  },
  {
   "cell_type": "code",
   "execution_count": 11,
   "metadata": {},
   "outputs": [
    {
     "name": "stdout",
     "output_type": "stream",
     "text": [
      "intermediate.shape: torch.Size([1, 4, 8, 64])\n",
      "final_output.shape: torch.Size([1, 4, 512])\n"
     ]
    }
   ],
   "source": [
    "\"\"\"\n",
    "and now this context vector is concatenated back together to form the final output.\n",
    "\"\"\"\n",
    "\n",
    "intermediate = context_vec.transpose(1, 2)\n",
    "print(f\"intermediate.shape: {intermediate.shape}\")\n",
    "final_output = intermediate.contiguous().view(1, -1, 512)\n",
    "print(f\"final_output.shape: {final_output.shape}\")"
   ]
  },
  {
   "cell_type": "code",
   "execution_count": null,
   "metadata": {},
   "outputs": [],
   "source": []
  }
 ],
 "metadata": {
  "kernelspec": {
   "display_name": ".venv",
   "language": "python",
   "name": "python3"
  },
  "language_info": {
   "codemirror_mode": {
    "name": "ipython",
    "version": 3
   },
   "file_extension": ".py",
   "mimetype": "text/x-python",
   "name": "python",
   "nbconvert_exporter": "python",
   "pygments_lexer": "ipython3",
   "version": "3.13.1"
  }
 },
 "nbformat": 4,
 "nbformat_minor": 2
}
