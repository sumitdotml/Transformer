{
 "cells": [
  {
   "cell_type": "markdown",
   "metadata": {},
   "source": [
    "# Shape study notebook\n",
    "\n",
    "Here, I am taking a close look at how the shapes of the tensors are transformed in the multi-head attention mechanism step by step based on the formula:\n",
    "\n",
    "$$\n",
    "\\text{Attention}(Q, K, V) = \\text{softmax}\\left(\\frac{QK^T}{\\sqrt{d_k}}\\right)V\n",
    "$$\n",
    "\n"
   ]
  },
  {
   "cell_type": "code",
   "execution_count": 1,
   "metadata": {},
   "outputs": [],
   "source": [
    "import torch\n",
    "import math"
   ]
  },
  {
   "cell_type": "markdown",
   "metadata": {},
   "source": [
    "I am assuming that the q, k, and v tensors have already been split into heads and transposed. For details, you should check the [multihead.py](./multihead.py) file in the same directory as this notebook."
   ]
  },
  {
   "cell_type": "code",
   "execution_count": 2,
   "metadata": {},
   "outputs": [
    {
     "name": "stdout",
     "output_type": "stream",
     "text": [
      "torch.Size([1, 8, 4, 64])\n",
      "torch.Size([1, 8, 4, 64])\n",
      "torch.Size([1, 8, 4, 64])\n"
     ]
    }
   ],
   "source": [
    "q = torch.randn(1, 8, 4, 64)\n",
    "k = torch.randn(1, 8, 4, 64)\n",
    "v = torch.randn(1, 8, 4, 64)\n",
    "d_k = k.shape[-1]\n",
    "\n",
    "print(q.shape)\n",
    "print(k.shape)\n",
    "print(v.shape)"
   ]
  },
  {
   "cell_type": "code",
   "execution_count": 3,
   "metadata": {},
   "outputs": [
    {
     "data": {
      "text/plain": [
       "torch.Size([1, 8, 4, 4])"
      ]
     },
     "execution_count": 3,
     "metadata": {},
     "output_type": "execute_result"
    }
   ],
   "source": [
    "qk_T = q @ k.transpose(-2, -1)\n",
    "qk_T.shape"
   ]
  },
  {
   "cell_type": "code",
   "execution_count": 4,
   "metadata": {},
   "outputs": [
    {
     "name": "stdout",
     "output_type": "stream",
     "text": [
      "attn_scores.shape: torch.Size([1, 8, 4, 4])\n",
      "attn_weights.shape: torch.Size([1, 8, 4, 4])\n",
      "context_vec.shape: torch.Size([1, 8, 4, 64])\n"
     ]
    }
   ],
   "source": [
    "attn_scores = qk_T / math.sqrt(d_k)\n",
    "print(f\"attn_scores.shape: {attn_scores.shape}\")\n",
    "\n",
    "attn_weights = torch.softmax(attn_scores, dim=-1)\n",
    "print(f\"attn_weights.shape: {attn_weights.shape}\")\n",
    "\n",
    "context_vec = attn_weights @ v\n",
    "print(f\"context_vec.shape: {context_vec.shape}\")"
   ]
  },
  {
   "cell_type": "code",
   "execution_count": 5,
   "metadata": {},
   "outputs": [
    {
     "name": "stdout",
     "output_type": "stream",
     "text": [
      "intermediate.shape: torch.Size([1, 4, 8, 64])\n",
      "final_output.shape: torch.Size([1, 4, 512])\n"
     ]
    }
   ],
   "source": [
    "\"\"\"\n",
    "and now this context vector is concatenated back together to form the final output.\n",
    "\"\"\"\n",
    "\n",
    "intermediate = context_vec.transpose(1, 2)\n",
    "print(f\"intermediate.shape: {intermediate.shape}\")\n",
    "final_output = intermediate.contiguous().view(1, -1, 512)\n",
    "print(f\"final_output.shape: {final_output.shape}\")"
   ]
  },
  {
   "cell_type": "code",
   "execution_count": 6,
   "metadata": {},
   "outputs": [
    {
     "name": "stdout",
     "output_type": "stream",
     "text": [
      "\n",
      "q_encodings.shape: torch.Size([1, 4, 512])\n",
      "q_encodings: 1\n",
      "\n",
      "k_encodings.shape: torch.Size([1, 4, 512])\n",
      "k_encodings: 1\n",
      "\n",
      "v_encodings.shape: torch.Size([1, 4, 512])\n",
      "v_encodings: 1\n",
      "\n",
      "q's size after q_encodings @ W_q: torch.Size([1, 4, 512])\n",
      "\n",
      "q after splitting and transposing: torch.Size([1, 8, 4, 64])\n",
      "k after splitting and transposing: torch.Size([1, 8, 4, 64]) what\n",
      "value after splitting and transposing: torch.Size([1, 8, 4, 64])\n",
      "\n",
      "Big H shape: torch.Size([1, 4, 512])\n",
      "\n",
      "torch.Size([1, 4, 512]) tensor([[[ 0.4343, -0.0738,  0.0735,  ...,  0.0547,  0.3116, -0.2508],\n",
      "         [    nan,     nan,     nan,  ...,     nan,     nan,     nan],\n",
      "         [    nan,     nan,     nan,  ...,     nan,     nan,     nan],\n",
      "         [ 0.2527,  0.0563,  0.2185,  ...,  0.0551,  0.1700, -0.2223]]],\n",
      "       grad_fn=<ViewBackward0>)\n"
     ]
    }
   ],
   "source": [
    "from multihead import *"
   ]
  },
  {
   "cell_type": "code",
   "execution_count": 7,
   "metadata": {},
   "outputs": [
    {
     "data": {
      "text/plain": [
       "(torch.Size([1, 4, 512]), torch.Size([1, 4, 512]))"
      ]
     },
     "execution_count": 7,
     "metadata": {},
     "output_type": "execute_result"
    }
   ],
   "source": [
    "q_encodings.shape, k_encodings.shape"
   ]
  },
  {
   "cell_type": "code",
   "execution_count": 8,
   "metadata": {},
   "outputs": [
    {
     "data": {
      "text/plain": [
       "tensor([[False,  True,  True,  True],\n",
       "        [False, False,  True,  True],\n",
       "        [False, False, False,  True],\n",
       "        [False, False, False, False]])"
      ]
     },
     "execution_count": 8,
     "metadata": {},
     "output_type": "execute_result"
    }
   ],
   "source": [
    "mask = create_causal_mask(\n",
    "    seq_len_q=q_encodings.shape[-2], seq_len_k=k_encodings.shape[-2], device=device\n",
    ")\n",
    "mask"
   ]
  },
  {
   "cell_type": "code",
   "execution_count": 14,
   "metadata": {},
   "outputs": [
    {
     "data": {
      "text/plain": [
       "tensor([[[ 96.8332,     -inf,     -inf,     -inf],\n",
       "         [ 32.7087,  94.9597,     -inf,     -inf],\n",
       "         [ 32.5465,  30.7693,  99.3592,     -inf],\n",
       "         [ 26.6260,  34.8210,  28.1737, 100.3393]]],\n",
       "       grad_fn=<MaskedFillBackward0>)"
      ]
     },
     "execution_count": 14,
     "metadata": {},
     "output_type": "execute_result"
    }
   ],
   "source": [
    "attn_scores = (q_encodings @ k_encodings.transpose(-2, -1)) / math.sqrt(d_k)\n",
    "attn_scores = attn_scores.masked_fill(mask, float(\"-inf\"))\n",
    "attn_scores"
   ]
  },
  {
   "cell_type": "code",
   "execution_count": 15,
   "metadata": {},
   "outputs": [
    {
     "data": {
      "text/plain": [
       "tensor([[[1.0000e+00, 0.0000e+00, 0.0000e+00, 0.0000e+00],\n",
       "         [9.2196e-28, 1.0000e+00, 0.0000e+00, 0.0000e+00],\n",
       "         [9.6297e-30, 1.6285e-30, 1.0000e+00, 0.0000e+00],\n",
       "         [9.6996e-33, 3.5139e-29, 4.5595e-32, 1.0000e+00]]],\n",
       "       grad_fn=<SoftmaxBackward0>)"
      ]
     },
     "execution_count": 15,
     "metadata": {},
     "output_type": "execute_result"
    }
   ],
   "source": [
    "attn_weights = torch.softmax(attn_scores, dim=-1)\n",
    "attn_weights"
   ]
  },
  {
   "cell_type": "code",
   "execution_count": null,
   "metadata": {},
   "outputs": [],
   "source": []
  }
 ],
 "metadata": {
  "kernelspec": {
   "display_name": ".venv",
   "language": "python",
   "name": "python3"
  },
  "language_info": {
   "codemirror_mode": {
    "name": "ipython",
    "version": 3
   },
   "file_extension": ".py",
   "mimetype": "text/x-python",
   "name": "python",
   "nbconvert_exporter": "python",
   "pygments_lexer": "ipython3",
   "version": "3.13.1"
  }
 },
 "nbformat": 4,
 "nbformat_minor": 2
}
