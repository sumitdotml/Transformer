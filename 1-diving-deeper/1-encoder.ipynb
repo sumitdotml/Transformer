{
 "cells": [
  {
   "cell_type": "code",
   "execution_count": 1,
   "metadata": {},
   "outputs": [],
   "source": [
    "import torch\n",
    "import torch.nn as nn\n",
    "from imports import *"
   ]
  },
  {
   "cell_type": "code",
   "execution_count": 2,
   "metadata": {},
   "outputs": [
    {
     "name": "stdout",
     "output_type": "stream",
     "text": [
      "\n",
      "For a single text:\n",
      "torch.Size([1, 4, 512])\n",
      "tensor([[[-2.4624, -0.6219,  0.3427,  ...,  0.4021, -0.4395,  0.0513],\n",
      "         [-2.2234, -0.0615, -0.3485,  ...,  2.0056,  0.6611,  0.1068],\n",
      "         [ 0.4423,  0.7279,  1.3436,  ...,  1.3718,  0.1375,  1.7969],\n",
      "         [ 1.8609,  0.4966, -0.2507,  ...,  1.1169,  0.7286, -2.2299]]],\n",
      "       grad_fn=<EmbeddingBackward0>)\n",
      "[1212, 318, 257, 10586]\n",
      "torch.Size([2, 4, 512])\n",
      "tensor([[[-2.4624, -0.6219,  0.3427,  ...,  0.4021, -0.4395,  0.0513],\n",
      "         [-2.2234, -0.0615, -0.3485,  ...,  2.0056,  0.6611,  0.1068],\n",
      "         [ 0.4423,  0.7279,  1.3436,  ...,  1.3718,  0.1375,  1.7969],\n",
      "         [ 1.8609,  0.4966, -0.2507,  ...,  1.1169,  0.7286, -2.2299]],\n",
      "\n",
      "        [[ 0.7492,  0.7029,  1.8907,  ...,  1.1608,  0.6677,  0.9957],\n",
      "         [ 0.6290, -1.2532,  0.7946,  ...,  1.1605,  0.3518,  0.7011],\n",
      "         [-0.4044, -0.7931,  1.1574,  ..., -0.4258,  0.3240,  1.1428],\n",
      "         [ 0.7365,  0.9845,  0.7070,  ...,  0.2339,  0.2194, -0.1703]]],\n",
      "       grad_fn=<EmbeddingBackward0>)\n",
      "[[1212, 318, 257, 10586], [32, 3621, 6891, 6508]]\n"
     ]
    }
   ],
   "source": [
    "input_text = []\n",
    "input_text1 = 'This is a keyboard'\n",
    "input_text2 = 'A nice coffee cup'\n",
    "input_text.append(input_text1)\n",
    "input_text.append(input_text2)\n",
    "\n",
    "# for a single text\n",
    "token_ids_single, input_embeddings_single = tokenize_text(input_text[0])\n",
    "print(\"\\nFor a single text:\")\n",
    "print(input_embeddings_single.shape)\n",
    "print(input_embeddings_single)\n",
    "print(token_ids_single)\n",
    "\n",
    "# for batched processing\n",
    "token_ids, input_embeddings = tokenize_batch(input_text)\n",
    "print(input_embeddings.shape)\n",
    "print(input_embeddings)\n",
    "print(token_ids)"
   ]
  },
  {
   "cell_type": "code",
   "execution_count": 3,
   "metadata": {},
   "outputs": [
    {
     "data": {
      "text/plain": [
       "tensor([[[-2.4624,  0.3781,  0.3427,  ...,  1.4021, -0.4395,  1.0513],\n",
       "         [-1.3819,  0.5081,  0.4535,  ...,  3.0056,  0.6611,  1.1068],\n",
       "         [ 1.3516,  0.3770,  2.3018,  ...,  2.3718,  0.1375,  2.7969],\n",
       "         [ 2.0021, -0.4729,  0.0920,  ...,  2.1169,  0.7286, -1.2299]],\n",
       "\n",
       "        [[ 0.7492,  1.7029,  1.8907,  ...,  2.1608,  0.6677,  1.9957],\n",
       "         [ 1.4705, -0.6835,  1.5966,  ...,  2.1605,  0.3518,  1.7011],\n",
       "         [ 0.5049, -1.1440,  2.1155,  ...,  0.5742,  0.3240,  2.1428],\n",
       "         [ 0.8776,  0.0150,  1.0497,  ...,  1.2339,  0.2194,  0.8297]]],\n",
       "       grad_fn=<AddBackward0>)"
      ]
     },
     "execution_count": 3,
     "metadata": {},
     "output_type": "execute_result"
    }
   ],
   "source": [
    "encoded_embedding = positional_encoding(input_embeddings=input_embeddings)\n",
    "encoded_embedding"
   ]
  },
  {
   "cell_type": "markdown",
   "metadata": {},
   "source": [
    "## Moving on to the encoder block"
   ]
  },
  {
   "cell_type": "code",
   "execution_count": null,
   "metadata": {},
   "outputs": [],
   "source": []
  }
 ],
 "metadata": {
  "kernelspec": {
   "display_name": ".venv",
   "language": "python",
   "name": "python3"
  },
  "language_info": {
   "codemirror_mode": {
    "name": "ipython",
    "version": 3
   },
   "file_extension": ".py",
   "mimetype": "text/x-python",
   "name": "python",
   "nbconvert_exporter": "python",
   "pygments_lexer": "ipython3",
   "version": "3.13.1"
  }
 },
 "nbformat": 4,
 "nbformat_minor": 2
}
